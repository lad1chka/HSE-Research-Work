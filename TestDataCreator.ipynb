{
 "cells": [
  {
   "cell_type": "code",
   "execution_count": 5,
   "id": "f4e83789",
   "metadata": {},
   "outputs": [],
   "source": [
    "import pandas as pd\n",
    "import os\n",
    "import re\n",
    "from docx import Document\n",
    "from pathlib import Path\n",
    "import random"
   ]
  },
  {
   "cell_type": "code",
   "execution_count": 6,
   "id": "71fe1aba",
   "metadata": {},
   "outputs": [],
   "source": [
    "heur1 = '/test_val_heuristic.xlsx'\n",
    "llm1 = '/test_val_llm.xlsx'\n",
    "bonus1 = '/test_bonus_val_llm.xlsx'\n",
    "\n",
    "llm2 = '/test_second_query.xlsx'\n",
    "\n",
    "heur3 = '/test_third_val_heuristic.xlsx'\n",
    "llm3 = '/test_third_val_llm.xlsx'\n",
    "bonus3 = '/test_bonus_third_val_llm.xlsx'"
   ]
  },
  {
   "cell_type": "code",
   "execution_count": 7,
   "id": "a3aabbc5",
   "metadata": {},
   "outputs": [],
   "source": [
    "def processing(path):\n",
    "    df = pd.read_excel(\"./Stats\" + path)\n",
    "    random.seed(42)\n",
    "    df1 = df.sample(n=min(100, len(df)), random_state=42)\n",
    "    df1.to_excel(\"./Stats_metric\" + path, index=False)"
   ]
  },
  {
   "cell_type": "code",
   "execution_count": 8,
   "id": "750c373e",
   "metadata": {},
   "outputs": [],
   "source": [
    "output_dir_stats = Path(\"Stats_metric\")\n",
    "output_dir_stats.mkdir(parents=True, exist_ok=True)\n",
    "\n",
    "processing(heur1)\n",
    "processing(llm1)\n",
    "processing(bonus1)\n",
    "processing(llm2)\n",
    "processing(heur3)\n",
    "processing(llm3)\n",
    "processing(bonus3)"
   ]
  }
 ],
 "metadata": {
  "kernelspec": {
   "display_name": "envnir",
   "language": "python",
   "name": "envnir"
  },
  "language_info": {
   "codemirror_mode": {
    "name": "ipython",
    "version": 3
   },
   "file_extension": ".py",
   "mimetype": "text/x-python",
   "name": "python",
   "nbconvert_exporter": "python",
   "pygments_lexer": "ipython3",
   "version": "3.12.3"
  }
 },
 "nbformat": 4,
 "nbformat_minor": 5
}
