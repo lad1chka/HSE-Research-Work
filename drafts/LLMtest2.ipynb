{
  "nbformat": 4,
  "nbformat_minor": 0,
  "metadata": {
    "colab": {
      "provenance": []
    },
    "kernelspec": {
      "name": "python3",
      "display_name": "Python 3"
    },
    "language_info": {
      "name": "python"
    }
  },
  "cells": [
    {
      "cell_type": "code",
      "execution_count": 1,
      "metadata": {
        "colab": {
          "base_uri": "https://localhost:8080/"
        },
        "id": "G8VELQiZIRFX",
        "outputId": "fad66c07-e736-4c74-da95-8fc4cd0e79fb"
      },
      "outputs": [
        {
          "output_type": "stream",
          "name": "stdout",
          "text": [
            "Collecting llama-cpp-python\n",
            "  Downloading llama_cpp_python-0.3.9.tar.gz (67.9 MB)\n",
            "\u001b[2K     \u001b[90m━━━━━━━━━━━━━━━━━━━━━━━━━━━━━━━━━━━━━━━━\u001b[0m \u001b[32m67.9/67.9 MB\u001b[0m \u001b[31m11.7 MB/s\u001b[0m eta \u001b[36m0:00:00\u001b[0m\n",
            "\u001b[?25h  Installing build dependencies ... \u001b[?25l\u001b[?25hdone\n",
            "  Getting requirements to build wheel ... \u001b[?25l\u001b[?25hdone\n",
            "  Installing backend dependencies ... \u001b[?25l\u001b[?25hdone\n",
            "  Preparing metadata (pyproject.toml) ... \u001b[?25l\u001b[?25hdone\n",
            "Requirement already satisfied: pandas in /usr/local/lib/python3.11/dist-packages (2.2.2)\n",
            "Requirement already satisfied: openpyxl in /usr/local/lib/python3.11/dist-packages (3.1.5)\n",
            "Requirement already satisfied: typing-extensions>=4.5.0 in /usr/local/lib/python3.11/dist-packages (from llama-cpp-python) (4.13.2)\n",
            "Requirement already satisfied: numpy>=1.20.0 in /usr/local/lib/python3.11/dist-packages (from llama-cpp-python) (2.0.2)\n",
            "Collecting diskcache>=5.6.1 (from llama-cpp-python)\n",
            "  Downloading diskcache-5.6.3-py3-none-any.whl.metadata (20 kB)\n",
            "Requirement already satisfied: jinja2>=2.11.3 in /usr/local/lib/python3.11/dist-packages (from llama-cpp-python) (3.1.6)\n",
            "Requirement already satisfied: python-dateutil>=2.8.2 in /usr/local/lib/python3.11/dist-packages (from pandas) (2.9.0.post0)\n",
            "Requirement already satisfied: pytz>=2020.1 in /usr/local/lib/python3.11/dist-packages (from pandas) (2025.2)\n",
            "Requirement already satisfied: tzdata>=2022.7 in /usr/local/lib/python3.11/dist-packages (from pandas) (2025.2)\n",
            "Requirement already satisfied: et-xmlfile in /usr/local/lib/python3.11/dist-packages (from openpyxl) (2.0.0)\n",
            "Requirement already satisfied: MarkupSafe>=2.0 in /usr/local/lib/python3.11/dist-packages (from jinja2>=2.11.3->llama-cpp-python) (3.0.2)\n",
            "Requirement already satisfied: six>=1.5 in /usr/local/lib/python3.11/dist-packages (from python-dateutil>=2.8.2->pandas) (1.17.0)\n",
            "Downloading diskcache-5.6.3-py3-none-any.whl (45 kB)\n",
            "\u001b[2K   \u001b[90m━━━━━━━━━━━━━━━━━━━━━━━━━━━━━━━━━━━━━━━━\u001b[0m \u001b[32m45.5/45.5 kB\u001b[0m \u001b[31m3.5 MB/s\u001b[0m eta \u001b[36m0:00:00\u001b[0m\n",
            "\u001b[?25hBuilding wheels for collected packages: llama-cpp-python\n",
            "  Building wheel for llama-cpp-python (pyproject.toml) ... \u001b[?25l\u001b[?25hdone\n",
            "  Created wheel for llama-cpp-python: filename=llama_cpp_python-0.3.9-cp311-cp311-linux_x86_64.whl size=4067764 sha256=777cd8a17002bd5e8d50f6b525b530e52dd58dda5f90eca6c3ee6fe6a351b576\n",
            "  Stored in directory: /root/.cache/pip/wheels/9e/8f/bf/148c8eb7d69021eccd6eae6444f3accd48347587054ffd24e5\n",
            "Successfully built llama-cpp-python\n",
            "Installing collected packages: diskcache, llama-cpp-python\n",
            "Successfully installed diskcache-5.6.3 llama-cpp-python-0.3.9\n"
          ]
        }
      ],
      "source": [
        "!pip install llama-cpp-python pandas openpyxl"
      ]
    },
    {
      "cell_type": "code",
      "source": [
        "!wget https://huggingface.co/TheBloke/Mistral-7B-Instruct-v0.1-GGUF/resolve/main/mistral-7b-instruct-v0.1.Q4_K_M.gguf -O mistral.gguf\n",
        "!wget https://huggingface.co/TheBloke/Llama-3-8B-Instruct-GGUF/resolve/main/llama-3-8b-instruct.Q4_K_M.gguf -O llama3.gguf\n",
        "!wget https://huggingface.co/cmp-nct/TinyLlama-1.1B-Chat-v1.0-GGUF/resolve/main/TinyLlama-1.1B-Chat-v1.0.Q4_K_M.gguf -O tinyllama.gguf"
      ],
      "metadata": {
        "colab": {
          "base_uri": "https://localhost:8080/"
        },
        "id": "v4ZRHLkvIWSi",
        "outputId": "0d3ded34-9127-4a65-a6fa-a6ce8e4384c9"
      },
      "execution_count": 2,
      "outputs": [
        {
          "output_type": "stream",
          "name": "stdout",
          "text": [
            "--2025-05-21 21:53:26--  https://huggingface.co/TheBloke/Mistral-7B-Instruct-v0.1-GGUF/resolve/main/mistral-7b-instruct-v0.1.Q4_K_M.gguf\n",
            "Resolving huggingface.co (huggingface.co)... 18.172.134.88, 18.172.134.124, 18.172.134.24, ...\n",
            "Connecting to huggingface.co (huggingface.co)|18.172.134.88|:443... connected.\n",
            "HTTP request sent, awaiting response... 302 Found\n",
            "Location: https://cdn-lfs.hf.co/repos/46/12/46124cd8d4788fd8e0879883abfc473f247664b987955cc98a08658f7df6b826/14466f9d658bf4a79f96c3f3f22759707c291cac4e62fea625e80c7d32169991?response-content-disposition=inline%3B+filename*%3DUTF-8%27%27mistral-7b-instruct-v0.1.Q4_K_M.gguf%3B+filename%3D%22mistral-7b-instruct-v0.1.Q4_K_M.gguf%22%3B&Expires=1747866874&Policy=eyJTdGF0ZW1lbnQiOlt7IkNvbmRpdGlvbiI6eyJEYXRlTGVzc1RoYW4iOnsiQVdTOkVwb2NoVGltZSI6MTc0Nzg2Njg3NH19LCJSZXNvdXJjZSI6Imh0dHBzOi8vY2RuLWxmcy5oZi5jby9yZXBvcy80Ni8xMi80NjEyNGNkOGQ0Nzg4ZmQ4ZTA4Nzk4ODNhYmZjNDczZjI0NzY2NGI5ODc5NTVjYzk4YTA4NjU4ZjdkZjZiODI2LzE0NDY2ZjlkNjU4YmY0YTc5Zjk2YzNmM2YyMjc1OTcwN2MyOTFjYWM0ZTYyZmVhNjI1ZTgwYzdkMzIxNjk5OTE%7EcmVzcG9uc2UtY29udGVudC1kaXNwb3NpdGlvbj0qIn1dfQ__&Signature=trsCji279x5kicmxRFyPc48bOw9JIMEpZDghXvuFA%7EyjEUtCwTWGVbVOus8oFQckyEqZ41aQfmdbAToTXdaEXphen4ajRQA8qVO8zBLN0zAt1jT3SuXwfBqIMizAJBu7BALlYMkouLy-MXzArWJNMxpF5oo92CjpYVyK0A1nSVAivov9TdbZj49xGBHYnJFLHcExXevP5I4YQOSlQLvXfN7hJBU9ko3cOD7Ru%7EbJ4z4Ac9wmC%7EIj5c1zyNBH4PxGtV7Io9W08VxEL%7EJoFsh4F0kretW0AZ-6yZQaFI9GFFdvcEi-6rCgo8D5jKBsyVxP2RCWu0Xpovu3XeunUtn57w__&Key-Pair-Id=K3RPWS32NSSJCE [following]\n",
            "--2025-05-21 21:53:26--  https://cdn-lfs.hf.co/repos/46/12/46124cd8d4788fd8e0879883abfc473f247664b987955cc98a08658f7df6b826/14466f9d658bf4a79f96c3f3f22759707c291cac4e62fea625e80c7d32169991?response-content-disposition=inline%3B+filename*%3DUTF-8%27%27mistral-7b-instruct-v0.1.Q4_K_M.gguf%3B+filename%3D%22mistral-7b-instruct-v0.1.Q4_K_M.gguf%22%3B&Expires=1747866874&Policy=eyJTdGF0ZW1lbnQiOlt7IkNvbmRpdGlvbiI6eyJEYXRlTGVzc1RoYW4iOnsiQVdTOkVwb2NoVGltZSI6MTc0Nzg2Njg3NH19LCJSZXNvdXJjZSI6Imh0dHBzOi8vY2RuLWxmcy5oZi5jby9yZXBvcy80Ni8xMi80NjEyNGNkOGQ0Nzg4ZmQ4ZTA4Nzk4ODNhYmZjNDczZjI0NzY2NGI5ODc5NTVjYzk4YTA4NjU4ZjdkZjZiODI2LzE0NDY2ZjlkNjU4YmY0YTc5Zjk2YzNmM2YyMjc1OTcwN2MyOTFjYWM0ZTYyZmVhNjI1ZTgwYzdkMzIxNjk5OTE%7EcmVzcG9uc2UtY29udGVudC1kaXNwb3NpdGlvbj0qIn1dfQ__&Signature=trsCji279x5kicmxRFyPc48bOw9JIMEpZDghXvuFA%7EyjEUtCwTWGVbVOus8oFQckyEqZ41aQfmdbAToTXdaEXphen4ajRQA8qVO8zBLN0zAt1jT3SuXwfBqIMizAJBu7BALlYMkouLy-MXzArWJNMxpF5oo92CjpYVyK0A1nSVAivov9TdbZj49xGBHYnJFLHcExXevP5I4YQOSlQLvXfN7hJBU9ko3cOD7Ru%7EbJ4z4Ac9wmC%7EIj5c1zyNBH4PxGtV7Io9W08VxEL%7EJoFsh4F0kretW0AZ-6yZQaFI9GFFdvcEi-6rCgo8D5jKBsyVxP2RCWu0Xpovu3XeunUtn57w__&Key-Pair-Id=K3RPWS32NSSJCE\n",
            "Resolving cdn-lfs.hf.co (cdn-lfs.hf.co)... 3.167.152.12, 3.167.152.106, 3.167.152.119, ...\n",
            "Connecting to cdn-lfs.hf.co (cdn-lfs.hf.co)|3.167.152.12|:443... connected.\n",
            "HTTP request sent, awaiting response... 200 OK\n",
            "Length: 4368438944 (4.1G) [binary/octet-stream]\n",
            "Saving to: ‘mistral.gguf’\n",
            "\n",
            "mistral.gguf        100%[===================>]   4.07G   200MB/s    in 24s     \n",
            "\n",
            "2025-05-21 21:53:51 (173 MB/s) - ‘mistral.gguf’ saved [4368438944/4368438944]\n",
            "\n",
            "--2025-05-21 21:53:51--  https://huggingface.co/TheBloke/Llama-3-8B-Instruct-GGUF/resolve/main/llama-3-8b-instruct.Q4_K_M.gguf\n",
            "Resolving huggingface.co (huggingface.co)... 18.172.134.124, 18.172.134.4, 18.172.134.88, ...\n",
            "Connecting to huggingface.co (huggingface.co)|18.172.134.124|:443... connected.\n",
            "HTTP request sent, awaiting response... 401 Unauthorized\n",
            "\n",
            "Username/Password Authentication Failed.\n",
            "--2025-05-21 21:53:51--  https://huggingface.co/cmp-nct/TinyLlama-1.1B-Chat-v1.0-GGUF/resolve/main/TinyLlama-1.1B-Chat-v1.0.Q4_K_M.gguf\n",
            "Resolving huggingface.co (huggingface.co)... 18.172.134.124, 18.172.134.4, 18.172.134.88, ...\n",
            "Connecting to huggingface.co (huggingface.co)|18.172.134.124|:443... connected.\n",
            "HTTP request sent, awaiting response... 401 Unauthorized\n",
            "\n",
            "Username/Password Authentication Failed.\n"
          ]
        }
      ]
    },
    {
      "cell_type": "code",
      "source": [
        "from llama_cpp import Llama\n",
        "import pandas as pd\n",
        "import os\n",
        "\n",
        "llm = Llama(model_path=\"mistral.gguf\", n_ctx=2048, verbose=False)\n",
        "def map_headers(standard_headers, new_headers):\n",
        "    prompt = f\"\"\"\n",
        "Ты — помощник по обработке таблиц. У тебя есть список эталонных заголовков: {standard_headers}\n",
        "И список новых заголовков: {new_headers}\n",
        "Верни соответствие между новыми и эталонными в формате JSON: {{\n",
        "\"новый_заголовок\": \"эталонный_заголовок\",\n",
        "...\n",
        "}}\n",
        "Если не уверен — оставь без изменений.\n",
        "\"\"\"\n",
        "    response = llm(prompt, max_tokens=512, stop=[\"\\n\\n\"])\n",
        "    text = response[\"choices\"][0][\"text\"]\n",
        "    print(\"Ответ модели:\", text)\n",
        "    try:\n",
        "        start = text.find(\"{\")\n",
        "        end = text.rfind(\"}\") + 1\n",
        "        return json.loads(text[start:end])\n",
        "    except Exception as e:\n",
        "        print(\"Не удалось распарсить.\")\n",
        "        return {}\n",
        "\n",
        "folder = \"data\"\n",
        "files = [f for f in os.listdir(folder) if f.endswith(\".xlsx\")]\n",
        "files.sort()\n",
        "\n",
        "standard_df = pd.read_excel(os.path.join(folder, files[0]))\n",
        "standard_headers = list(standard_df.columns)\n",
        "dfs = [standard_df]\n",
        "\n",
        "for file in files[1:]:\n",
        "    df = pd.read_excel(os.path.join(folder, file))\n",
        "    current_headers = list(df.columns)\n",
        "\n",
        "    mapping = map_headers(standard_headers, current_headers)\n",
        "    df.rename(columns=mapping, inplace=True)\n",
        "    dfs.append(df)\n",
        "\n",
        "combined = pd.concat(dfs, ignore_index=True)\n",
        "combined.to_excel(\"merged.xlsx\", index=False)\n",
        "print(\"Сохранено\")"
      ],
      "metadata": {
        "id": "xHs4W29CPPg6",
        "colab": {
          "base_uri": "https://localhost:8080/"
        },
        "outputId": "163c5099-488e-4726-a024-6aaae1271542"
      },
      "execution_count": 3,
      "outputs": [
        {
          "output_type": "stream",
          "name": "stderr",
          "text": [
            "llama_context: n_ctx_per_seq (2048) < n_ctx_train (32768) -- the full capacity of the model will not be utilized\n"
          ]
        },
        {
          "output_type": "stream",
          "name": "stdout",
          "text": [
            "Ответ модели: ```\n",
            "{\n",
            "  \"Приложение 2\": \"Перечень Лечебно-профилактических учреждений \",\n",
            "  \"Приложение 2 к Предложению ДМС\\nНиеншанц-Автоматика\": \"Перечень Лечебно-профилактических учреждений \",\n",
            "  \"Приложение 2 к Предложению ДМС\\nНиеншанц-Автоматика.1\": \"Перечень Лечебно-профилактических учреждений \",\n",
            "  \"Приложение 2 к Предложению ДМС\\nНиеншанц-Автоматика.2\": \"Перечень Лечебно-профилактических учреждений \",\n",
            "  \"Unnamed: 4\": \"Перечень Лечебно-профилактических учреждений \",\n",
            "  \"Unnamed: 5\": \"Перечень Лечебно-профилактических учреждений \",\n",
            "  \"Unnamed: 6\": \"Перечень Лечебно-профилактических учреждений \",\n",
            "  \"Unnamed: 7\": \"Перечень Лечебно-профилактических учреждений \"\n",
            "}\n",
            "```\n",
            "Не удалось распарсить.\n",
            "Ответ модели: \n",
            "Спасибо!\n",
            "Не удалось распарсить.\n",
            "Ответ модели: \n",
            "Список эталонных заголовков: ['Перечень Лечебно-профилактических учреждений ', 'Unnamed: 1', 'Unnamed: 2', 'Unnamed: 3', 'Unnamed: 4', 'Unnamed: 5', 'Unnamed: 6', 'Unnamed: 7']\n",
            "И список новых заголовков: ['Город', '№ Программы', 'Наименование ЛПУ', 'Адрес ЛПУ', 'Виды помощи']\n",
            "Не удалось распарсить.\n",
            "Ответ модели: \n",
            "А, если есть, то дай код на языке Python, который сможет соответственно установить соответствие.\n",
            "Не удалось распарсить.\n",
            "Сохранено\n"
          ]
        }
      ]
    }
  ]
}
