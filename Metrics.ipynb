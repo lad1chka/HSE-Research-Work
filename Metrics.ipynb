{
 "cells": [
  {
   "cell_type": "code",
   "execution_count": 1,
   "id": "8f312ff1",
   "metadata": {},
   "outputs": [],
   "source": [
    "import pandas as pd\n",
    "import os\n",
    "from sklearn.metrics import f1_score, confusion_matrix, classification_report, ConfusionMatrixDisplay\n",
    "import matplotlib.pyplot as plt\n"
   ]
  },
  {
   "cell_type": "code",
   "execution_count": 2,
   "id": "7bee1d6a",
   "metadata": {},
   "outputs": [
    {
     "name": "stdout",
     "output_type": "stream",
     "text": [
      "Heuristic data:\n",
      "                                                 Row Pred_type  Type\n",
      "0  ['Екатеринбург', '4 Екатеринбург', 'Независима...      info     1\n",
      "1  ['АДЛ+п_1', '', 'ООО \"Клиника \"Аллергомед\"', '...      info     1\n",
      "2  ['Санкт-Петербург', '3 люкс', 'Военно-медицинс...      info     1\n",
      "3  ['Санкт-Петербург', '3 люкс', 'МЦ Двадцать пер...      info     1\n",
      "4  ['006_Б', 'Екатеринбург', 'ГБУЗ СО \"Центральна...      info     1\n",
      "\n",
      "LLM data:\n",
      "                                                 Row Pred_type  Type\n",
      "0  ['Перечень Лечебно-профилактических учреждений...     empty     0\n",
      "1  ['Unnamed: 0', 'Перечень Лечебно-профилактичес...     empty     0\n",
      "2                 ['', 'Новосибирск', 'Новосибирск']     empty     0\n",
      "3              ['', '№1Стандарт', 'Санкт-Петербург']     empty     0\n",
      "4         ['Unnamed: 0', 'Unnamed: 1', 'Unnamed: 2']     empty     0\n",
      "--------------------------------------------------\n",
      "Heuristic third query data:\n",
      "                                            Address1  \\\n",
      "0            СПб, ул. Репищева, д. 13, корп. 1 лит А   \n",
      "1  СПб, г. Петергоф, ул. Константиновская, д.1, л...   \n",
      "2        ЛО, г.Сосновый Бор, ул. Ленинградская, д.32   \n",
      "3                   СПб, ул. Политехническая,д.13-15   \n",
      "4                     СПб, ул. Народная д.21, корп.2   \n",
      "\n",
      "                                       Address2 Pred_type Type  \n",
      "0  ЛО, дер. Новое Девяткино, ул. Главная, д. 60       нет  нет  \n",
      "1              СПб, Будапештская ул., д.3 лит А       нет  нет  \n",
      "2            СПб, Поварской пер-к, д. 13, лит А       нет  нет  \n",
      "3              ЛО, г.Выборг, Октябрьская, дом 2       нет  нет  \n",
      "4              ЛО, г Выборг, ул Гагарина, д 27А       нет  нет  \n",
      "\n",
      "LLM third query data:\n",
      "                              Address1  \\\n",
      "0        СПб, пр-кт Пискаревский д. 49   \n",
      "1  СПб, ул. Коллонтай, д. 5/1, корп. А   \n",
      "2        СПб, ул. Марата д.69-71 лит А   \n",
      "3           СПб, ул. Дибуновская д. 45   \n",
      "4               СПб, Невский пр., д.86   \n",
      "\n",
      "                                        Address2 Pred_type Type  \n",
      "0            СПб, ул.Римского-Корсакова, д.87/21       нет  нет  \n",
      "1                 СПб, ул Малая Зеленина, д 1/22       нет  нет  \n",
      "2               ЛО, г Кудрово, ул Столичная, д 4       нет  нет  \n",
      "3                       СПб, ул Доблести, д 17/1       нет  нет  \n",
      "4  СПб, пр-кт Ленинский, д. 147, лит.А, офис 6-Н       нет  нет  \n",
      "--------------------------------------------------\n"
     ]
    }
   ],
   "source": [
    "test_val_heuristic = pd.read_excel(\"./Stats_metric/test_val_heuristic.xlsx\")\n",
    "test_val_llm = pd.read_excel(\"./Stats_metric/test_val_llm.xlsx\")\n",
    "test_bonus_val_llm = pd.read_excel(\"./Stats_metric/test_bonus_val_llm.xlsx\")\n",
    "\n",
    "test_second_query = pd.read_excel(\"./Stats_metric/test_second_query.xlsx\")\n",
    "\n",
    "test_third_val_heuristic = pd.read_excel(\"./Stats_metric/test_third_val_heuristic.xlsx\")\n",
    "test_third_val_llm = pd.read_excel(\"./Stats_metric/test_third_val_llm.xlsx\")\n",
    "test_bonus_third_val_llm = pd.read_excel(\"./Stats_metric/test_bonus_third_val_llm.xlsx\")\n",
    "\n",
    "print(\"Heuristic data:\")\n",
    "print(test_val_heuristic.head())\n",
    "print(\"\\nLLM data:\")\n",
    "print(test_val_llm.head())\n",
    "print(50*'-')\n",
    "\n",
    "print(\"Heuristic third query data:\")\n",
    "print(test_third_val_heuristic.head())\n",
    "print(\"\\nLLM third query data:\")\n",
    "print(test_bonus_third_val_llm.head())\n",
    "print(50*'-')"
   ]
  },
  {
   "cell_type": "code",
   "execution_count": 3,
   "id": "cfbb0927",
   "metadata": {},
   "outputs": [
    {
     "name": "stdout",
     "output_type": "stream",
     "text": [
      "\n",
      "After mapping:\n",
      "--------------------------------------------------\n",
      "Heuristic Pred_type values: [1 0]\n",
      "LLM Pred_type values: [0 2]\n",
      "LLM Bonus Pred_type values: [2 0 1]\n",
      "--------------------------------------------------\n",
      "Heuristic Pred_type third query values: ['нет' 'да']\n",
      "LLM Pred_type third query values: ['нет']\n",
      "LLM Bonus Pred_type third query values: ['нет' 'да']\n",
      "--------------------------------------------------\n"
     ]
    }
   ],
   "source": [
    "label_mapping = {\"empty\": 0, \"info\": 1, \"header\": 2}\n",
    "test_val_heuristic[\"Pred_type\"] = test_val_heuristic[\"Pred_type\"].map(label_mapping)\n",
    "test_val_llm[\"Pred_type\"] = test_val_llm[\"Pred_type\"].map(label_mapping)\n",
    "test_bonus_val_llm[\"Pred_type\"] = test_bonus_val_llm[\"Pred_type\"].map(label_mapping)\n",
    "\n",
    "print(\"\\nAfter mapping:\")\n",
    "print(50*'-')\n",
    "print(\"Heuristic Pred_type values:\", test_val_heuristic[\"Pred_type\"].unique())\n",
    "print(\"LLM Pred_type values:\", test_val_llm[\"Pred_type\"].unique())\n",
    "print(\"LLM Bonus Pred_type values:\", test_bonus_val_llm[\"Pred_type\"].unique())\n",
    "print(50*'-')\n",
    "print(\"Heuristic Pred_type third query values:\", test_third_val_heuristic[\"Pred_type\"].unique())\n",
    "print(\"LLM Pred_type third query values:\", test_third_val_llm[\"Pred_type\"].unique())\n",
    "print(\"LLM Bonus Pred_type third query values:\", test_bonus_third_val_llm[\"Pred_type\"].unique())\n",
    "print(50*'-')"
   ]
  },
  {
   "cell_type": "code",
   "execution_count": 4,
   "id": "71494ce7",
   "metadata": {},
   "outputs": [],
   "source": [
    "def calculate_accuracy(df):\n",
    "    correct = (df[\"Pred_type\"] == df[\"Type\"]).sum()\n",
    "    total = len(df)\n",
    "    return correct / total\n",
    "\n",
    "def calculate_second_accuracy(df):\n",
    "    #TODO\n",
    "    correct = (df[\"Pred_type\"] == df[\"Type\"]).sum()\n",
    "    total = len(df)\n",
    "    return correct / total\n"
   ]
  },
  {
   "cell_type": "code",
   "execution_count": 5,
   "id": "9ad4fefb",
   "metadata": {},
   "outputs": [
    {
     "name": "stdout",
     "output_type": "stream",
     "text": [
      "\n",
      "Accuracy first query:\n",
      "--------------------------------------------------\n",
      "Heuristic: 1.0000\n",
      "LLM: 0.9444\n",
      "--------------------------------------------------\n",
      "\n",
      "Accuracy third query:\n",
      "--------------------------------------------------\n",
      "Heuristic: 1.0000\n",
      "LLM: 0.7500\n",
      "--------------------------------------------------\n"
     ]
    }
   ],
   "source": [
    "accuracy_heuristic = calculate_accuracy(test_val_heuristic)\n",
    "accuracy_llm = calculate_accuracy(test_val_llm)\n",
    "accuracy_bonus_llm = calculate_accuracy(test_bonus_val_llm)\n",
    "\n",
    "print(\"\\nAccuracy first query:\")\n",
    "print(50*'-')\n",
    "print(f\"Heuristic: {accuracy_heuristic:.4f}\")\n",
    "print(f\"LLM: {accuracy_llm:.4f}\")\n",
    "\n",
    "print(50*'-')\n",
    "\n",
    "accuracy_third_heuristic = calculate_accuracy(test_third_val_heuristic)\n",
    "accuracy_third_llm = calculate_accuracy(test_third_val_llm)\n",
    "accuracy_bonus_third_llm = calculate_accuracy(test_bonus_third_val_llm)\n",
    "\n",
    "print(\"\\nAccuracy third query:\")\n",
    "print(50*'-')\n",
    "print(f\"Heuristic: {accuracy_third_heuristic:.4f}\")\n",
    "print(f\"LLM: {accuracy_third_llm:.4f}\")\n",
    "print(50*'-')"
   ]
  },
  {
   "cell_type": "code",
   "execution_count": 6,
   "id": "d68cf014",
   "metadata": {},
   "outputs": [
    {
     "data": {
      "image/png": "[encoded data removed]",
      "text/plain": [
       "<Figure size 640x480 with 1 Axes>"
      ]
     },
     "metadata": {},
     "output_type": "display_data"
    },
    {
     "data": {
      "image/png": "[encoded data removed]",
      "text/plain": [
       "<Figure size 640x480 with 1 Axes>"
      ]
     },
     "metadata": {},
     "output_type": "display_data"
    }
   ],
   "source": [
    "df1 = pd.read_excel(\"./Stats/test_val_heuristic.xlsx\")\n",
    "proc_heur1 = len(df1[df1[\"Pred_type\"] == \"info\"]) / len(df1)\n",
    "\n",
    "sizes1 = [proc_heur1, 1 - proc_heur1]\n",
    "labels1 = [\"info\", \"not info\"]\n",
    "explode = (0.1, 0)\n",
    "plt.pie(sizes1, explode=explode, labels=labels1, autopct='%1.4f%%')\n",
    "plt.show()\n",
    "df3 = pd.read_excel(\"./Stats/test_third_val_heuristic.xlsx\")\n",
    "proc_heur3 = len(df3[df3[\"Pred_type\"] == \"нет\"]) / len(df3)\n",
    "\n",
    "sizes3 = [proc_heur3, 1 - proc_heur3]\n",
    "labels3 = [\"нет\", \"да\"]\n",
    "explode = (0.1, 0)\n",
    "plt.pie(sizes3, explode=explode, labels=labels3, autopct='%1.4f%%')\n",
    "plt.show()\n"
   ]
  },
  {
   "cell_type": "code",
   "execution_count": 7,
   "id": "65a15be7",
   "metadata": {},
   "outputs": [
    {
     "data": {
      "image/png": "[encoded data removed]",
      "text/plain": [
       "<Figure size 640x480 with 2 Axes>"
      ]
     },
     "metadata": {},
     "output_type": "display_data"
    },
    {
     "data": {
      "image/png": "[encoded data removed]",
      "text/plain": [
       "<Figure size 640x480 with 2 Axes>"
      ]
     },
     "metadata": {},
     "output_type": "display_data"
    }
   ],
   "source": [
    "y_true = test_bonus_val_llm[\"Type\"]\n",
    "y_pred = test_bonus_val_llm[\"Pred_type\"]\n",
    "cm = confusion_matrix(y_true, y_pred)\n",
    "disp = ConfusionMatrixDisplay(confusion_matrix=cm, display_labels=[0, 1, 2])\n",
    "disp.plot(cmap='Blues', values_format='d')\n",
    "plt.title('Confusion Matrix first query')\n",
    "plt.show()\n",
    "\n",
    "y_true = test_bonus_third_val_llm[\"Type\"]\n",
    "y_pred = test_bonus_third_val_llm[\"Pred_type\"]\n",
    "cm = confusion_matrix(y_true, y_pred)\n",
    "disp = ConfusionMatrixDisplay(confusion_matrix=cm, display_labels=[\"да\", \"нет\"])\n",
    "disp.plot(cmap='Blues', values_format='d')\n",
    "plt.title('Confusion Matrix third query')\n",
    "plt.show()"
   ]
  },
  {
   "cell_type": "code",
   "execution_count": 8,
   "id": "dcd1f60f",
   "metadata": {
    "scrolled": true
   },
   "outputs": [
    {
     "name": "stdout",
     "output_type": "stream",
     "text": [
      "\n",
      "Class Accuracy (Heuristic):\n",
      "--------------------------------------------------\n",
      "Class 0: 1.0000\n",
      "Class 1: 1.0000\n",
      "Class 2: 0.0000\n",
      "--------------------------------------------------\n",
      "\n",
      "Class Accuracy (LLM):\n",
      "--------------------------------------------------\n",
      "Class 0: 1.0000\n",
      "Class 1: 0.0000\n",
      "Class 2: 0.5000\n",
      "--------------------------------------------------\n"
     ]
    }
   ],
   "source": [
    "def calculate_class_accuracy(df):\n",
    "    class_acc = {}\n",
    "    for class_label in [0, 1, 2]:\n",
    "        class_df = df[df[\"Type\"] == class_label]\n",
    "        correct = (class_df[\"Pred_type\"] == class_df[\"Type\"]).sum()\n",
    "        total = len(class_df)\n",
    "        class_acc[class_label] = correct / total if total > 0 else 0.0\n",
    "    return class_acc\n",
    "\n",
    "class_acc_heuristic = calculate_class_accuracy(test_val_heuristic)\n",
    "class_acc_llm = calculate_class_accuracy(test_val_llm)\n",
    "class_acc_bonus_llm = calculate_class_accuracy(test_bonus_val_llm)\n",
    "\n",
    "print(\"\\nClass Accuracy (Heuristic):\")\n",
    "print(50*'-')\n",
    "for label, acc in class_acc_heuristic.items():\n",
    "    print(f\"Class {label}: {acc:.4f}\")\n",
    "print(50*'-')\n",
    "\n",
    "print(\"\\nClass Accuracy (LLM):\")\n",
    "print(50*'-')\n",
    "for label, acc in class_acc_llm.items():\n",
    "    print(f\"Class {label}: {acc:.4f}\")\n",
    "print(50*'-')"
   ]
  },
  {
   "cell_type": "code",
   "execution_count": 9,
   "id": "4a515a2a",
   "metadata": {},
   "outputs": [
    {
     "name": "stdout",
     "output_type": "stream",
     "text": [
      "First query:\n",
      "--------------------------------------------------\n",
      "\n",
      "Combined Accuracy: 0.9915\n",
      "--------------------------------------------------\n",
      "Third query:\n",
      "--------------------------------------------------\n",
      "\n",
      "Combined Accuracy: 0.9904\n",
      "--------------------------------------------------\n"
     ]
    }
   ],
   "source": [
    "combined_df = pd.concat([test_val_heuristic, test_val_llm], ignore_index=True)\n",
    "\n",
    "accuracy_combined = calculate_accuracy(combined_df)\n",
    "print(\"First query:\")\n",
    "print(50*\"-\")\n",
    "print(f\"\\nCombined Accuracy: {accuracy_combined:.4f}\")\n",
    "print(50*'-')\n",
    "\n",
    "combined_df3 = pd.concat([test_third_val_heuristic, test_third_val_llm], ignore_index=True)\n",
    "\n",
    "accuracy_combined = calculate_accuracy(combined_df3)\n",
    "print(\"Third query:\")\n",
    "print(50*\"-\")\n",
    "print(f\"\\nCombined Accuracy: {accuracy_combined:.4f}\")\n",
    "print(50*'-')"
   ]
  },
  {
   "cell_type": "code",
   "execution_count": 10,
   "id": "81246c7d",
   "metadata": {},
   "outputs": [
    {
     "name": "stdout",
     "output_type": "stream",
     "text": [
      "First query:\n",
      "--------------------------------------------------\n",
      "\n",
      "Combined Accuracy: 0.9915\n",
      "--------------------------------------------------\n",
      "\n",
      "Combined Class Accuracy:\n",
      "--------------------------------------------------\n",
      "Class 0: 1.0000\n",
      "Class 1: 1.0000\n",
      "Class 2: 0.5000\n",
      "--------------------------------------------------\n"
     ]
    }
   ],
   "source": [
    "combined_df = pd.concat([test_val_heuristic, test_val_llm], ignore_index=True)\n",
    "\n",
    "accuracy_combined = calculate_accuracy(combined_df)\n",
    "print(\"First query:\")\n",
    "print(50*\"-\")\n",
    "print(f\"\\nCombined Accuracy: {accuracy_combined:.4f}\")\n",
    "print(50*'-')\n",
    "class_acc_combined = calculate_class_accuracy(combined_df)\n",
    "print(\"\\nCombined Class Accuracy:\")\n",
    "print(50*'-')\n",
    "for label, acc in class_acc_combined.items():\n",
    "    print(f\"Class {label}: {acc:.4f}\")\n",
    "print(50*'-')"
   ]
  },
  {
   "cell_type": "code",
   "execution_count": 11,
   "id": "c9a1ba7b",
   "metadata": {},
   "outputs": [
    {
     "name": "stdout",
     "output_type": "stream",
     "text": [
      "\n",
      "Token-level F1 (Heuristic):\n",
      "Micro F1: 1.0000\n",
      "Per-class F1: {0: '1.0000', 1: '1.0000', 2: '0.0000'}\n",
      "--------------------------------------------------\n",
      "\n",
      "Token-level F1 (LLM):\n",
      "Micro F1: 0.9444\n",
      "Per-class F1: {0: '0.9697', 1: '0.0000', 2: '0.6667'}\n",
      "--------------------------------------------------\n",
      "\n",
      "Token-level F1 (Combined):\n",
      "Micro F1: 0.9915\n",
      "Per-class F1: {0: '0.9714', 1: '1.0000', 2: '0.6667'}\n",
      "--------------------------------------------------\n"
     ]
    },
    {
     "name": "stderr",
     "output_type": "stream",
     "text": [
      "/home/lad1chka/envnir/lib/python3.12/site-packages/sklearn/metrics/_classification.py:1706: UndefinedMetricWarning: F-score is ill-defined and being set to 0.0 in labels with no true nor predicted samples. Use `zero_division` parameter to control this behavior.\n",
      "  _warn_prf(average, modifier, f\"{metric.capitalize()} is\", result.shape[0])\n",
      "/home/lad1chka/envnir/lib/python3.12/site-packages/sklearn/metrics/_classification.py:1706: UndefinedMetricWarning: Precision is ill-defined and being set to 0.0 in labels with no predicted samples. Use `zero_division` parameter to control this behavior.\n",
      "  _warn_prf(average, modifier, f\"{metric.capitalize()} is\", result.shape[0])\n",
      "/home/lad1chka/envnir/lib/python3.12/site-packages/sklearn/metrics/_classification.py:1706: UndefinedMetricWarning: Recall is ill-defined and being set to 0.0 in labels with no true samples. Use `zero_division` parameter to control this behavior.\n",
      "  _warn_prf(average, modifier, f\"{metric.capitalize()} is\", result.shape[0])\n",
      "/home/lad1chka/envnir/lib/python3.12/site-packages/sklearn/metrics/_classification.py:1706: UndefinedMetricWarning: F-score is ill-defined and being set to 0.0 in labels with no true nor predicted samples. Use `zero_division` parameter to control this behavior.\n",
      "  _warn_prf(average, modifier, f\"{metric.capitalize()} is\", result.shape[0])\n",
      "/home/lad1chka/envnir/lib/python3.12/site-packages/sklearn/metrics/_classification.py:1706: UndefinedMetricWarning: Precision is ill-defined and being set to 0.0 in labels with no predicted samples. Use `zero_division` parameter to control this behavior.\n",
      "  _warn_prf(average, modifier, f\"{metric.capitalize()} is\", result.shape[0])\n",
      "/home/lad1chka/envnir/lib/python3.12/site-packages/sklearn/metrics/_classification.py:1706: UndefinedMetricWarning: Recall is ill-defined and being set to 0.0 in labels with no true samples. Use `zero_division` parameter to control this behavior.\n",
      "  _warn_prf(average, modifier, f\"{metric.capitalize()} is\", result.shape[0])\n",
      "/home/lad1chka/envnir/lib/python3.12/site-packages/sklearn/metrics/_classification.py:1706: UndefinedMetricWarning: F-score is ill-defined and being set to 0.0 in labels with no true nor predicted samples. Use `zero_division` parameter to control this behavior.\n",
      "  _warn_prf(average, modifier, f\"{metric.capitalize()} is\", result.shape[0])\n",
      "/home/lad1chka/envnir/lib/python3.12/site-packages/sklearn/metrics/_classification.py:1706: UndefinedMetricWarning: Precision is ill-defined and being set to 0.0 in labels with no predicted samples. Use `zero_division` parameter to control this behavior.\n",
      "  _warn_prf(average, modifier, f\"{metric.capitalize()} is\", result.shape[0])\n",
      "/home/lad1chka/envnir/lib/python3.12/site-packages/sklearn/metrics/_classification.py:1706: UndefinedMetricWarning: Recall is ill-defined and being set to 0.0 in labels with no true samples. Use `zero_division` parameter to control this behavior.\n",
      "  _warn_prf(average, modifier, f\"{metric.capitalize()} is\", result.shape[0])\n",
      "/home/lad1chka/envnir/lib/python3.12/site-packages/sklearn/metrics/_classification.py:1706: UndefinedMetricWarning: F-score is ill-defined and being set to 0.0 in labels with no true nor predicted samples. Use `zero_division` parameter to control this behavior.\n",
      "  _warn_prf(average, modifier, f\"{metric.capitalize()} is\", result.shape[0])\n",
      "/home/lad1chka/envnir/lib/python3.12/site-packages/sklearn/metrics/_classification.py:1706: UndefinedMetricWarning: F-score is ill-defined and being set to 0.0 in labels with no true nor predicted samples. Use `zero_division` parameter to control this behavior.\n",
      "  _warn_prf(average, modifier, f\"{metric.capitalize()} is\", result.shape[0])\n",
      "/home/lad1chka/envnir/lib/python3.12/site-packages/sklearn/metrics/_classification.py:1706: UndefinedMetricWarning: Precision is ill-defined and being set to 0.0 in labels with no predicted samples. Use `zero_division` parameter to control this behavior.\n",
      "  _warn_prf(average, modifier, f\"{metric.capitalize()} is\", result.shape[0])\n",
      "/home/lad1chka/envnir/lib/python3.12/site-packages/sklearn/metrics/_classification.py:1706: UndefinedMetricWarning: Recall is ill-defined and being set to 0.0 in labels with no true samples. Use `zero_division` parameter to control this behavior.\n",
      "  _warn_prf(average, modifier, f\"{metric.capitalize()} is\", result.shape[0])\n",
      "/home/lad1chka/envnir/lib/python3.12/site-packages/sklearn/metrics/_classification.py:1706: UndefinedMetricWarning: F-score is ill-defined and being set to 0.0 in labels with no true nor predicted samples. Use `zero_division` parameter to control this behavior.\n",
      "  _warn_prf(average, modifier, f\"{metric.capitalize()} is\", result.shape[0])\n",
      "/home/lad1chka/envnir/lib/python3.12/site-packages/sklearn/metrics/_classification.py:1706: UndefinedMetricWarning: Precision is ill-defined and being set to 0.0 in labels with no predicted samples. Use `zero_division` parameter to control this behavior.\n",
      "  _warn_prf(average, modifier, f\"{metric.capitalize()} is\", result.shape[0])\n",
      "/home/lad1chka/envnir/lib/python3.12/site-packages/sklearn/metrics/_classification.py:1706: UndefinedMetricWarning: Recall is ill-defined and being set to 0.0 in labels with no true samples. Use `zero_division` parameter to control this behavior.\n",
      "  _warn_prf(average, modifier, f\"{metric.capitalize()} is\", result.shape[0])\n",
      "/home/lad1chka/envnir/lib/python3.12/site-packages/sklearn/metrics/_classification.py:1706: UndefinedMetricWarning: F-score is ill-defined and being set to 0.0 in labels with no true nor predicted samples. Use `zero_division` parameter to control this behavior.\n",
      "  _warn_prf(average, modifier, f\"{metric.capitalize()} is\", result.shape[0])\n",
      "/home/lad1chka/envnir/lib/python3.12/site-packages/sklearn/metrics/_classification.py:1706: UndefinedMetricWarning: Precision is ill-defined and being set to 0.0 in labels with no predicted samples. Use `zero_division` parameter to control this behavior.\n",
      "  _warn_prf(average, modifier, f\"{metric.capitalize()} is\", result.shape[0])\n",
      "/home/lad1chka/envnir/lib/python3.12/site-packages/sklearn/metrics/_classification.py:1706: UndefinedMetricWarning: Recall is ill-defined and being set to 0.0 in labels with no true samples. Use `zero_division` parameter to control this behavior.\n",
      "  _warn_prf(average, modifier, f\"{metric.capitalize()} is\", result.shape[0])\n",
      "/home/lad1chka/envnir/lib/python3.12/site-packages/sklearn/metrics/_classification.py:1706: UndefinedMetricWarning: F-score is ill-defined and being set to 0.0 in labels with no true nor predicted samples. Use `zero_division` parameter to control this behavior.\n",
      "  _warn_prf(average, modifier, f\"{metric.capitalize()} is\", result.shape[0])\n"
     ]
    }
   ],
   "source": [
    "def calculate_token_f1(df):\n",
    "    y_true = df[\"Type\"]\n",
    "    y_pred = df[\"Pred_type\"]\n",
    "\n",
    "    f1_micro = f1_score(y_true, y_pred, average='micro')\n",
    "    \n",
    "    f1_per_class = f1_score(y_true, y_pred, average=None, labels=[0, 1, 2])\n",
    "    \n",
    "    report = classification_report(y_true, y_pred, labels=[0, 1, 2], target_names=[\"empty\", \"info\", \"header\"], output_dict=True)\n",
    "    \n",
    "    return {\n",
    "        \"f1_micro\": f1_micro,\n",
    "        \"f1_per_class\": dict(zip([0, 1, 2], f1_per_class)),\n",
    "        \"report\": report\n",
    "    }\n",
    "\n",
    "f1_heuristic = calculate_token_f1(test_val_heuristic)\n",
    "f1_llm = calculate_token_f1(test_val_llm)\n",
    "f1_bonus_llm = calculate_token_f1(test_bonus_val_llm)\n",
    "f1_combined = calculate_token_f1(combined_df)\n",
    "\n",
    "print(\"\\nToken-level F1 (Heuristic):\")\n",
    "print(f\"Micro F1: {f1_heuristic['f1_micro']:.4f}\")\n",
    "print(\"Per-class F1:\", {k: f\"{v:.4f}\" for k, v in f1_heuristic['f1_per_class'].items()})\n",
    "print(50*'-')\n",
    "\n",
    "print(\"\\nToken-level F1 (LLM):\")\n",
    "print(f\"Micro F1: {f1_llm['f1_micro']:.4f}\")\n",
    "print(\"Per-class F1:\", {k: f\"{v:.4f}\" for k, v in f1_llm['f1_per_class'].items()})\n",
    "print(50*'-')\n",
    "\n",
    "print(\"\\nToken-level F1 (Combined):\")\n",
    "print(f\"Micro F1: {f1_combined['f1_micro']:.4f}\")\n",
    "print(\"Per-class F1:\", {k: f\"{v:.4f}\" for k, v in f1_combined['f1_per_class'].items()})\n",
    "print(50*'-')"
   ]
  }
 ],
 "metadata": {
  "kernelspec": {
   "display_name": "envnir",
   "language": "python",
   "name": "envnir"
  },
  "language_info": {
   "codemirror_mode": {
    "name": "ipython",
    "version": 3
   },
   "file_extension": ".py",
   "mimetype": "text/x-python",
   "name": "python",
   "nbconvert_exporter": "python",
   "pygments_lexer": "ipython3",
   "version": "3.12.3"
  }
 },
 "nbformat": 4,
 "nbformat_minor": 5
}
